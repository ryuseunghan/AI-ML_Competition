{
  "nbformat": 4,
  "nbformat_minor": 0,
  "metadata": {
    "colab": {
      "private_outputs": true,
      "provenance": [],
      "include_colab_link": true
    },
    "kernelspec": {
      "name": "python3",
      "display_name": "Python 3"
    },
    "language_info": {
      "name": "python"
    },
    "accelerator": "GPU",
    "gpuClass": "standard"
  },
  "cells": [
    {
      "cell_type": "markdown",
      "metadata": {
        "id": "view-in-github",
        "colab_type": "text"
      },
      "source": [
        "<a href=\"https://colab.research.google.com/github/ryuseunghan/AI-ML_Competition/blob/main/%EB%AC%B8%EC%9E%A5_%EC%9C%A0%ED%98%95_%EB%B6%84%EB%A5%98_AI_%EA%B2%BD%EC%A7%84%EB%8C%80%ED%9A%8C.ipynb\" target=\"_parent\"><img src=\"https://colab.research.google.com/assets/colab-badge.svg\" alt=\"Open In Colab\"/></a>"
      ]
    },
    {
      "cell_type": "code",
      "source": [
        "from google.colab import drive\n",
        "drive.mount('/content/drive')"
      ],
      "metadata": {
        "id": "SUbYKuV101c0"
      },
      "execution_count": null,
      "outputs": []
    },
    {
      "cell_type": "code",
      "source": [
        "!pip install transformers"
      ],
      "metadata": {
        "id": "N_dlVTjt1EFd"
      },
      "execution_count": null,
      "outputs": []
    },
    {
      "cell_type": "code",
      "execution_count": null,
      "metadata": {
        "id": "1ta9cEpB0f0L"
      },
      "outputs": [],
      "source": [
        "# https://dacon.io/en/competitions/official/236037/overview/description\n",
        "\n",
        "import pandas as pd\n",
        "import numpy as np\n",
        "import torch\n",
        "import os\n",
        "import random\n",
        "from sklearn.model_selection import train_test_split\n",
        "from transformers import AutoModel, AutoTokenizer\n",
        "from torch.utils.data import Dataset\n",
        "from torch.utils.data import DataLoader\n",
        "from torch import nn\n",
        "from tqdm import tqdm\n",
        "\n",
        "# for graphing\n",
        "import seaborn as sns\n",
        "import matplotlib.pyplot as plt"
      ]
    },
    {
      "cell_type": "code",
      "source": [
        "train_original = pd.read_csv('/content/drive/MyDrive/open.zip (Unzipped Files)/train.csv')\n",
        "train_original.drop(columns=['ID'], inplace=True)\n",
        "test = pd.read_csv('/content/drive/MyDrive/open.zip (Unzipped Files)/test.csv')\n",
        "test.drop(columns=['ID'], inplace=True)\n",
        "submission = pd.read_csv('/content/drive/MyDrive/open.zip (Unzipped Files)/sample_submission.csv')"
      ],
      "metadata": {
        "id": "PNUfrjKV0gh0"
      },
      "execution_count": null,
      "outputs": []
    },
    {
      "cell_type": "code",
      "source": [
        "import re\n",
        "\n",
        "def pre_process(texts):\n",
        "    pattern = r'\\([^)]*\\)'\n",
        "\n",
        "    for i in range(len(texts)):\n",
        "        texts[i] = re.sub(pattern=pattern, repl='', string = texts[i])\n",
        "        texts[i] = texts[i].replace('  ', ' ')"
      ],
      "metadata": {
        "id": "Bx9uqa-85hdj"
      },
      "execution_count": null,
      "outputs": []
    },
    {
      "cell_type": "code",
      "source": [
        "pre_process(train_original['문장'])\n",
        "pre_process(test['문장'])"
      ],
      "metadata": {
        "id": "hHE3RwSI9U1j"
      },
      "execution_count": null,
      "outputs": []
    },
    {
      "cell_type": "code",
      "source": [
        "train_original.head()"
      ],
      "metadata": {
        "id": "6HpA8edoQvPV"
      },
      "execution_count": null,
      "outputs": []
    },
    {
      "cell_type": "code",
      "source": [
        "def seed_everything(seed):\n",
        "    random.seed(seed)\n",
        "    os.environ['PYTHONHASHSEED'] = str(seed)\n",
        "    np.random.seed(seed)\n",
        "    torch.manual_seed(seed)\n",
        "    torch.cuda.manual_seed(seed)\n",
        "    torch.backends.cudnn.deterministic = True\n",
        "    torch.backends.cudnn.benchmark = True\n",
        "\n",
        "CFG = {\n",
        "    'EPOCHS':20,\n",
        "    'LEARNING_RATE':1e-5,\n",
        "    'BATCH_SIZE':32,\n",
        "    'SEED':41\n",
        "}\n",
        "\n",
        "seed_everything(CFG['SEED']) # Seed 고정\n",
        "device = torch.device('cuda')"
      ],
      "metadata": {
        "id": "1sxwdBIt1GYL"
      },
      "execution_count": null,
      "outputs": []
    },
    {
      "cell_type": "code",
      "source": [
        "train, val, _, _ = train_test_split(train_original, train_original['label'], test_size=0.1, random_state=CFG['SEED'])\n",
        "train = train.reset_index(drop=True)\n",
        "val = val.reset_index(drop=True)"
      ],
      "metadata": {
        "id": "19XMp-8-1xVj"
      },
      "execution_count": null,
      "outputs": []
    },
    {
      "cell_type": "code",
      "source": [
        "model_nm = 'beomi/kcbert-large'\n",
        "base_model = AutoModel.from_pretrained(model_nm)\n",
        "tokenizer = AutoTokenizer.from_pretrained(model_nm)"
      ],
      "metadata": {
        "id": "AKL7w_-B1yXa"
      },
      "execution_count": null,
      "outputs": []
    },
    {
      "cell_type": "code",
      "source": [
        "tokenizer_len = [len(tokenizer(s)['input_ids']) for s in train['문장']]\n",
        "sns.histplot(tokenizer_len)\n",
        "plt.show()\n",
        "\n",
        "print(f'log value : {np.mean(tokenizer_len)+3*np.std(tokenizer_len)}')"
      ],
      "metadata": {
        "id": "mLR1lFUT1zXS"
      },
      "execution_count": null,
      "outputs": []
    },
    {
      "cell_type": "code",
      "source": [
        "tokenizer_log = np.log(tokenizer_len)\n",
        "sns.histplot(tokenizer_log)\n",
        "plt.show()\n",
        "\n",
        "print(f'log value : {np.mean(tokenizer_log)+3*np.std(tokenizer_log)}')\n",
        "print(f'original value : {np.exp(np.mean(tokenizer_log)+3*np.std(tokenizer_log))}')"
      ],
      "metadata": {
        "id": "fKxVSFX410TS"
      },
      "execution_count": null,
      "outputs": []
    },
    {
      "cell_type": "code",
      "source": [
        "class SentenceTypeDataset(Dataset):\n",
        "    def __init__(self, dataframe, tokenizer, labels=None):\n",
        "        texts = dataframe['문장'].values.tolist()\n",
        "\n",
        "        self.texts = [tokenizer(text, padding='max_length', max_length=90, truncation=True, return_tensors='pt') for text in texts]\n",
        "        self.labels = labels\n",
        "\n",
        "    def __len__(self):\n",
        "        return len(self.texts)\n",
        "\n",
        "    def __getitem__(self, idx):\n",
        "        text = self.texts[idx]\n",
        "\n",
        "        if self.labels is not None:\n",
        "            type_tmp = self.labels['type'][idx]\n",
        "            polarity_tmp = self.labels['polarity'][idx]\n",
        "            tense_tmp = self.labels['tense'][idx]\n",
        "            certainty_tmp = self.labels['certainty'][idx]\n",
        "            return text, torch.Tensor(type_tmp), torch.Tensor(polarity_tmp), torch.Tensor(tense_tmp), torch.Tensor(certainty_tmp)\n",
        "        else:\n",
        "            return text, torch.Tensor([-1,-1,-1,-1]), torch.Tensor([-1,-1,-1]), torch.Tensor([-1,-1,-1]), torch.Tensor([-1,-1])"
      ],
      "metadata": {
        "id": "lvdIoEPQ130U"
      },
      "execution_count": null,
      "outputs": []
    },
    {
      "cell_type": "code",
      "source": [
        "class SentenceClassifier(nn.Module):\n",
        "    def __init__(self, base_model):\n",
        "        super().__init__()\n",
        "        self.klue = base_model # from transformers package\n",
        "\n",
        "        self.fc1 = nn.Linear(1024, 32)\n",
        "        self.relu = nn.ReLU()\n",
        "        self.type_clf = nn.Linear(32,4)\n",
        "        self.polarity_clf = nn.Linear(32,3)\n",
        "        self.tense_clf = nn.Linear(32,3)\n",
        "        self.certainty_clf = nn.Linear(32,2)\n",
        "        self.softmax = nn.Softmax(dim=1)\n",
        "\n",
        "    def forward(self, input_ids, attention_mask):\n",
        "        # input_ids : token's id / attention_mask : make a model to focus on which token\n",
        "        klue_out = self.klue(input_ids= input_ids, attention_mask = attention_mask)[0][:,0]\n",
        "\n",
        "        x = self.fc1(klue_out)\n",
        "        x = self.relu(x)\n",
        "\n",
        "        type_output = self.type_clf(x)\n",
        "        type_output = self.softmax(type_output)\n",
        "        polarity_output = self.polarity_clf(x)\n",
        "        polarity_output = self.softmax(polarity_output)\n",
        "        tense_output = self.tense_clf(x)\n",
        "        tense_output = self.softmax(tense_output)\n",
        "        certainty_output = self.certainty_clf(x)\n",
        "        certainty_output = self.softmax(certainty_output)\n",
        "\n",
        "        return type_output, polarity_output, tense_output, certainty_output"
      ],
      "metadata": {
        "id": "21UKidC0149a"
      },
      "execution_count": null,
      "outputs": []
    },
    {
      "cell_type": "code",
      "source": [
        "model_nm ='kcbert'"
      ],
      "metadata": {
        "id": "coY0h49A8GNS"
      },
      "execution_count": null,
      "outputs": []
    },
    {
      "cell_type": "code",
      "source": [
        "def sentence_train(model, train_dataloader, val_dataloader, learning_rate, epochs, model_nm):\n",
        "    best_val_loss = 99999999999999 # setting max (act as infinity)\n",
        "    early_stopping_threshold_count = 0\n",
        "\n",
        "    criterion = {\n",
        "        'type' : nn.CrossEntropyLoss().to(device),\n",
        "        'polarity' : nn.CrossEntropyLoss().to(device),\n",
        "        'tense' : nn.CrossEntropyLoss().to(device),\n",
        "        'certainty' : nn.CrossEntropyLoss().to(device)\n",
        "    }\n",
        "\n",
        "    optimizer = torch.optim.Adam(model.parameters(), lr=learning_rate)\n",
        "    model = model.to(device)\n",
        "\n",
        "    for epoch in range(epochs):\n",
        "        total_acc_train = 0\n",
        "        total_loss_train = 0\n",
        "\n",
        "        model.train() # sets into the training mode\n",
        "\n",
        "        for train_input, type_label, polarity_label, tense_label, certainty_label in tqdm(train_dataloader):\n",
        "            attention_mask = train_input['attention_mask'].to(device)\n",
        "            input_ids = train_input['input_ids'].squeeze(1).to(device)\n",
        "            type_label = type_label.to(device)\n",
        "            polarity_label = polarity_label.to(device)\n",
        "            tense_label = tense_label.to(device)\n",
        "            certainty_label = certainty_label.to(device)\n",
        "\n",
        "            optimizer.zero_grad()\n",
        "\n",
        "            type_output, polarity_output, tense_output, certainty_output = model(input_ids, attention_mask) # from the forward function\n",
        "\n",
        "            loss = 0.25*criterion['type'](type_output, type_label.float()) + \\\n",
        "                   0.25*criterion['polarity'](polarity_output, polarity_label.float()) + \\\n",
        "                   0.25*criterion['tense'](tense_output, tense_label.float()) + \\\n",
        "                   0.25*criterion['certainty'](certainty_output, certainty_label.float())\n",
        "            total_loss_train += loss.item()\n",
        "\n",
        "            loss.backward()\n",
        "            optimizer.step()\n",
        "\n",
        "\n",
        "        with torch.no_grad(): # since we should not change gradient for validation\n",
        "            total_acc_val = 0\n",
        "            total_loss_val = 0\n",
        "\n",
        "            model.eval() # deactivate training\n",
        "\n",
        "            # same process as the above\n",
        "            for val_input, vtype_label, vpolarity_label, vtense_label, vcertainty_label in tqdm(val_dataloader):\n",
        "                attention_mask = val_input['attention_mask'].to(device)\n",
        "                input_ids = val_input['input_ids'].squeeze(1).to(device)\n",
        "\n",
        "                vtype_label = vtype_label.to(device)\n",
        "                vpolarity_label = vpolarity_label.to(device)\n",
        "                vtense_label = vtense_label.to(device)\n",
        "                vcertainty_label = vcertainty_label.to(device)\n",
        "\n",
        "                vtype_output, vpolarity_output, vtense_output, vcertainty_output = model(input_ids, attention_mask) # from the forward function\n",
        "\n",
        "                loss = 0.25*criterion['type'](vtype_output, vtype_label.float()) + \\\n",
        "                        0.25*criterion['polarity'](vpolarity_output, vpolarity_label.float()) + \\\n",
        "                        0.25*criterion['tense'](vtense_output, vtense_label.float()) + \\\n",
        "                        0.25*criterion['certainty'](vcertainty_output, vcertainty_label.float())\n",
        "\n",
        "                total_loss_val += loss.item()\n",
        "\n",
        "\n",
        "            print(f'Epochs: {epoch + 1} '\n",
        "                  f'| Train Loss: {total_loss_train / len(train_dataloader): .3f} '\n",
        "                  f'| Train Accuracy: {total_acc_train / (len(train_dataloader.dataset)): .3f} '\n",
        "                  f'| Val Loss: {total_loss_val / len(val_dataloader): .3f} '\n",
        "                  f'| Val Accuracy: {total_acc_val / len(val_dataloader.dataset): .3f}')\n",
        "\n",
        "            if best_val_loss > total_loss_val:\n",
        "                best_val_loss = total_loss_val # saving only the best one\n",
        "                torch.save(model, f\"/content/drive/MyDrive/open.zip (Unzipped Files)/{model_nm}.pt\")\n",
        "                print(\"Saved model\")\n",
        "                early_stopping_threshold_count = 0\n",
        "            else:\n",
        "                early_stopping_threshold_count += 1 # checking how many epochs have passed that val_loss didn't increase\n",
        "\n",
        "            if early_stopping_threshold_count >= 3: # ==> patience=1\n",
        "                print(\"Early stopping\")\n",
        "                break"
      ],
      "metadata": {
        "id": "q3rHx_Zc16QL"
      },
      "execution_count": null,
      "outputs": []
    },
    {
      "cell_type": "code",
      "source": [
        "train_tmp = train[['문장', '유형', '극성', '시제', '확실성']]\n",
        "train_tmp = pd.get_dummies(train_tmp, columns=['유형', '극성', '시제', '확실성'])\n",
        "train_tmp"
      ],
      "metadata": {
        "id": "hTBXJaIB18bL"
      },
      "execution_count": null,
      "outputs": []
    },
    {
      "cell_type": "code",
      "source": [
        "train_type = train_tmp.iloc[:,1:5].values.tolist()\n",
        "train_polarity = train_tmp.iloc[:,5:8].values.tolist()\n",
        "train_tense = train_tmp.iloc[:,8:11].values.tolist()\n",
        "train_certainty = train_tmp.iloc[:,11:13].values.tolist()\n",
        "train_labels = {\n",
        "    'type': train_type,\n",
        "    'polarity': train_polarity,\n",
        "    'tense': train_tense,\n",
        "    'certainty': train_certainty\n",
        "}"
      ],
      "metadata": {
        "id": "hzAUsrj619vK"
      },
      "execution_count": null,
      "outputs": []
    },
    {
      "cell_type": "code",
      "source": [
        "val_tmp = val[['문장', '유형', '극성', '시제', '확실성']]\n",
        "val_tmp = pd.get_dummies(val_tmp, columns=['유형', '극성', '시제', '확실성'])\n",
        "\n",
        "val_type = val_tmp.iloc[:,1:5].values.tolist()\n",
        "val_polarity = val_tmp.iloc[:,5:8].values.tolist()\n",
        "val_tense = val_tmp.iloc[:,8:11].values.tolist()\n",
        "val_certainty = val_tmp.iloc[:,11:13].values.tolist()\n",
        "val_labels = {\n",
        "    'type': val_type,\n",
        "    'polarity': val_polarity,\n",
        "    'tense': val_tense,\n",
        "    'certainty': val_certainty\n",
        "}"
      ],
      "metadata": {
        "id": "pkeBEb1u1_Da"
      },
      "execution_count": null,
      "outputs": []
    },
    {
      "cell_type": "code",
      "source": [
        "train_dataloader = DataLoader(SentenceTypeDataset(train_tmp, tokenizer, train_labels), batch_size=CFG['BATCH_SIZE'], shuffle=True, num_workers=0) # num_workers: how many subprocesses to use for data loading\n",
        "val_dataloader = DataLoader(SentenceTypeDataset(val_tmp, tokenizer, val_labels), batch_size=CFG['BATCH_SIZE'], num_workers=0)"
      ],
      "metadata": {
        "id": "uSf9oF1D2AJL"
      },
      "execution_count": null,
      "outputs": []
    },
    {
      "cell_type": "code",
      "source": [
        "model = SentenceClassifier(base_model)"
      ],
      "metadata": {
        "id": "cxv2f7Mw2BPD"
      },
      "execution_count": null,
      "outputs": []
    },
    {
      "cell_type": "code",
      "source": [
        "sentence_train(model, train_dataloader, val_dataloader, CFG['LEARNING_RATE'], CFG['EPOCHS'], 'beomi/kcbert-large')"
      ],
      "metadata": {
        "id": "wGjtvI7z2CW7"
      },
      "execution_count": null,
      "outputs": []
    },
    {
      "cell_type": "code",
      "source": [
        "def get_type_predictions(model, loader):\n",
        "\n",
        "    device = torch.device('cuda')\n",
        "    model = model.to(device)\n",
        "\n",
        "    type_probs, polarity_probs, tense_probs, clarity_probs = [], [], [], []\n",
        "    with torch.no_grad():\n",
        "        model.eval()\n",
        "        for data_input, _, _, _, _ in tqdm(loader):\n",
        "            attention_mask = data_input['attention_mask'].to(device)\n",
        "            input_ids = data_input['input_ids'].squeeze(1).to(device)\n",
        "\n",
        "\n",
        "            type_output, polarity_output, tense_output, clarity_output = model(input_ids, attention_mask)\n",
        "            type_probs.append(type_output)\n",
        "            polarity_probs.append(polarity_output)\n",
        "            tense_probs.append(tense_output)\n",
        "            clarity_probs.append(clarity_output)\n",
        "\n",
        "    return torch.cat(type_probs).cpu().detach().numpy(), \\\n",
        "            torch.cat(polarity_probs).cpu().detach().numpy(), \\\n",
        "            torch.cat(tense_probs).cpu().detach().numpy(), \\\n",
        "            torch.cat(clarity_probs).cpu().detach().numpy()"
      ],
      "metadata": {
        "id": "VauHurEB2DSM"
      },
      "execution_count": null,
      "outputs": []
    },
    {
      "cell_type": "code",
      "source": [
        "model = torch.load(\"/content/drive/MyDrive/open.zip (Unzipped Files)/{model_nm}.pt\")\n",
        "test_dataloader = DataLoader(SentenceTypeDataset(test, tokenizer), batch_size=CFG['BATCH_SIZE'], shuffle=False)"
      ],
      "metadata": {
        "id": "HFG-2gH_3X6b"
      },
      "execution_count": null,
      "outputs": []
    },
    {
      "cell_type": "code",
      "source": [
        "test_pred_type, test_pred_polarity, test_pred_tense, test_pred_certainty = get_type_predictions(model, test_dataloader)"
      ],
      "metadata": {
        "id": "d6eN7Pm_3cSb"
      },
      "execution_count": null,
      "outputs": []
    },
    {
      "cell_type": "code",
      "source": [
        "test_type = ['대화형' if i==0 else '사실형' if i==1 else '예측형' if i==2 else '추론형' for i in [np.argmax(p) for p in test_pred_type]]\n",
        "test_polarity = ['긍정' if i==0 else '미정' if i==1 else '부정' for i in [np.argmax(p) for p in test_pred_polarity]]\n",
        "test_tense = ['과거' if i==0 else '미래' if i==1 else '현재' for i in [np.argmax(p) for p in test_pred_tense]]\n",
        "test_certainty = ['불확실' if i==0 else '확실' for i in [np.argmax(p) for p in test_pred_certainty]]"
      ],
      "metadata": {
        "id": "lsuyzQhJ3cfS"
      },
      "execution_count": null,
      "outputs": []
    },
    {
      "cell_type": "code",
      "source": [
        "label_sum = []\n",
        "for i in range(len(test_type)):\n",
        "    label_sum.append(f'{test_type[i]}-{test_polarity[i]}-{test_tense[i]}-{test_certainty[i]}')\n",
        "\n",
        "submission['label'] = label_sum\n",
        "submission.to_csv('/content/drive/MyDrive/open.zip (Unzipped Files)/kcbert2.csv', index=False)"
      ],
      "metadata": {
        "id": "UvMzzA5w3e_y"
      },
      "execution_count": null,
      "outputs": []
    },
    {
      "cell_type": "code",
      "source": [],
      "metadata": {
        "id": "h1Kjvmyf99pR"
      },
      "execution_count": null,
      "outputs": []
    }
  ]
}